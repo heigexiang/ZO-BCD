{
 "cells": [
  {
   "cell_type": "code",
   "execution_count": 1,
   "metadata": {},
   "outputs": [],
   "source": [
    "import agentscope\n",
    "from agentscope.agents import DialogAgent\n",
    "from agentscope.agents.user_agent import UserAgent\n",
    "from agentscope.pipelines.functional import sequentialpipeline\n",
    "from agentscope.prompt import PromptType\n",
    "import json"
   ]
  },
  {
   "cell_type": "code",
   "execution_count": 2,
   "metadata": {},
   "outputs": [
    {
     "name": "stderr",
     "output_type": "stream",
     "text": [
      "\u001b[32m2024-03-18 09:50:45.586\u001b[0m | \u001b[1mINFO    \u001b[0m | \u001b[36magentscope.models\u001b[0m:\u001b[36mread_model_configs\u001b[0m:\u001b[36m147\u001b[0m - \u001b[1mLoad configs for model: post_llama-2-chat-7b-hf\u001b[0m\n",
      "\u001b[32m2024-03-18 09:50:45.622\u001b[0m | \u001b[1mINFO    \u001b[0m | \u001b[36magentscope.utils.monitor\u001b[0m:\u001b[36m_create_monitor_table\u001b[0m:\u001b[36m341\u001b[0m - \u001b[1mInit [monitor_metrics] as the monitor table\u001b[0m\n",
      "\u001b[32m2024-03-18 09:50:45.623\u001b[0m | \u001b[1mINFO    \u001b[0m | \u001b[36magentscope.utils.monitor\u001b[0m:\u001b[36m_create_monitor_table\u001b[0m:\u001b[36m342\u001b[0m - \u001b[1mInit [monitor_metrics_quota_exceeded] as the monitor trigger\u001b[0m\n",
      "\u001b[32m2024-03-18 09:50:45.623\u001b[0m | \u001b[1mINFO    \u001b[0m | \u001b[36magentscope.utils.monitor\u001b[0m:\u001b[36m__init__\u001b[0m:\u001b[36m311\u001b[0m - \u001b[1mSqliteMonitor initialization completed at [./runs/run_20240318-094833_kvn7mz/agentscope.db]\u001b[0m\n"
     ]
    },
    {
     "data": {
      "text/plain": [
       "[]"
      ]
     },
     "execution_count": 2,
     "metadata": {},
     "output_type": "execute_result"
    }
   ],
   "source": [
    "# read model configs\n",
    "with open('model_config.json', 'r', encoding='utf-8') as f:\n",
    "    cfg = json.load(f)\n",
    "agentscope.init(model_configs=cfg)"
   ]
  },
  {
   "cell_type": "code",
   "execution_count": 11,
   "metadata": {},
   "outputs": [],
   "source": [
    "# Create a dialog agent and a user agent\n",
    "dialogAgent = DialogAgent(name=\"assistant\", model=\"post_llama-2-chat-7b-hf\", \n",
    "                          sys_prompt='You are an assistant agent for solving math problems. When the user describes a math problem, try your best to analyze and answer the question. After describing your solution, you must add a final answer with format \"\\n####<number>\" in the end of your response. For example, when your are asked \"What is 2+2?\", you should answer \"2+2=4.\\n####4\".',\n",
    "                          prompt_type=PromptType.STRING)\n",
    "userAgent = UserAgent()"
   ]
  },
  {
   "cell_type": "code",
   "execution_count": 13,
   "metadata": {},
   "outputs": [],
   "source": [
    "x = None\n",
    "while x is None or x.content != \"exit\":\n",
    "    x = sequentialpipeline([dialogAgent, userAgent], x)"
   ]
  }
 ],
 "metadata": {
  "kernelspec": {
   "display_name": "agentscope",
   "language": "python",
   "name": "python3"
  },
  "language_info": {
   "codemirror_mode": {
    "name": "ipython",
    "version": 3
   },
   "file_extension": ".py",
   "mimetype": "text/x-python",
   "name": "python",
   "nbconvert_exporter": "python",
   "pygments_lexer": "ipython3",
   "version": "3.10.13"
  }
 },
 "nbformat": 4,
 "nbformat_minor": 2
}
